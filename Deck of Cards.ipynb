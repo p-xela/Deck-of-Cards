{
 "cells": [
  {
   "cell_type": "code",
   "execution_count": 1,
   "metadata": {},
   "outputs": [],
   "source": [
    "import random\n",
    "\n",
    "class Deck:\n",
    "    def shufflerestart(self):\n",
    "        DeckContents.extend(playerhand)\n",
    "        DeckContents.extend(opphand)\n",
    "        playerhand.clear()\n",
    "        opphand.clear()\n",
    "    def dealtwoplayers(self):\n",
    "        p1.draw_five(p1)\n",
    "        op1.draw_five(op1)\n",
    "\n",
    "d1 = Deck\n",
    "d1.deckcontents = DeckContents = [\"Ace of Spades\", \"Ace of Clubs\", \"Ace of Hearts\", \"Ace of Diamonds\",\"Two of Spades\", \"Two of Clubs\", \"Two of Hearts\", \"Two of Diamonds\",\"Three of Spades\", \"Three of Clubs\", \"Three of Hearts\", \"Three of Diamonds\",\"Four of Spades\", \"Four of Clubs\", \"Four of Hearts\", \"Four of Diamonds\",\"Five of Spades\", \"Five of Clubs\", \"Five of Hearts\", \"Five of Diamonds\",\"Six of Spades\", \"Six of Clubs\", \"Six of Hearts\", \"Six of Diamonds\",\"Seven of Spades\", \"Seven of Clubs\", \"Seven of Hearts\", \"Seven of Diamonds\",\"Eight of Spades\", \"Eight of Clubs\", \"Eight of Hearts\", \"Eight of Diamonds\",\"Nine of Spades\", \"Nine of Clubs\", \"Nine of Hearts\", \"Nine of Diamonds\",\"Ten of Spades\", \"Ten of Clubs\", \"Ten of Hearts\", \"Ten of Diamonds\",\"Jack of Spades\", \"Jack of Clubs\", \"Jack of Hearts\", \"Jack of Diamonds\",\"Queen of Spades\", \"Queen of Clubs\", \"Queen of Hearts\", \"Queen of Diamonds\",\"King of Spades\", \"King of Clubs\", \"King of Hearts\", \"King of Diamonds\",]\n",
    "\n",
    "class PlayerHand:\n",
    "    def draw_card(self):\n",
    "        newcard = random.choice(DeckContents)\n",
    "        DeckContents.remove(newcard)\n",
    "        playerhand.append(newcard)\n",
    "        print(\"You draw the\",newcard)\n",
    "    def draw_five(self):\n",
    "        for i in range(5):\n",
    "            p1.draw_card(p1)\n",
    "\n",
    "p1 = PlayerHand\n",
    "p1.p1hand = playerhand = []\n",
    "\n",
    "class OppHand:\n",
    "    def draw_card(op1):\n",
    "        newcard = random.choice(DeckContents)\n",
    "        DeckContents.remove(newcard)\n",
    "        opphand.append(newcard)\n",
    "        print(\"Opponent drew a card.\")\n",
    "    def draw_five(op1):\n",
    "        for i in range(5):\n",
    "            op1.draw_card(op1)\n",
    "        \n",
    "op1 = OppHand\n",
    "op1.op1hand = opphand = []"
   ]
  },
  {
   "cell_type": "code",
   "execution_count": null,
   "metadata": {},
   "outputs": [],
   "source": [
    "p1.draw_five(p1)"
   ]
  },
  {
   "cell_type": "code",
   "execution_count": null,
   "metadata": {},
   "outputs": [],
   "source": [
    "print(playerhand)"
   ]
  },
  {
   "cell_type": "code",
   "execution_count": null,
   "metadata": {},
   "outputs": [],
   "source": [
    "op1.draw_five(op1)"
   ]
  },
  {
   "cell_type": "code",
   "execution_count": null,
   "metadata": {},
   "outputs": [],
   "source": [
    "print(opphand)"
   ]
  },
  {
   "cell_type": "code",
   "execution_count": null,
   "metadata": {},
   "outputs": [],
   "source": [
    "d1.dealtwoplayers(d1)"
   ]
  },
  {
   "cell_type": "code",
   "execution_count": null,
   "metadata": {},
   "outputs": [],
   "source": [
    "d1.shufflerestart(d1)"
   ]
  },
  {
   "cell_type": "code",
   "execution_count": null,
   "metadata": {},
   "outputs": [],
   "source": [
    "len(DeckContents)"
   ]
  }
 ],
 "metadata": {
  "kernelspec": {
   "display_name": "Python 3",
   "language": "python",
   "name": "python3"
  },
  "language_info": {
   "codemirror_mode": {
    "name": "ipython",
    "version": 3
   },
   "file_extension": ".py",
   "mimetype": "text/x-python",
   "name": "python",
   "nbconvert_exporter": "python",
   "pygments_lexer": "ipython3",
   "version": "3.5.6"
  }
 },
 "nbformat": 4,
 "nbformat_minor": 2
}
